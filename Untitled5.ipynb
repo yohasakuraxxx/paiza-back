{
 "cells": [
  {
   "cell_type": "code",
   "execution_count": null,
   "metadata": {},
   "outputs": [],
   "source": [
    "N = int(input())\n",
    "l = [int(n) for n in input().split(' ')]\n",
    "\n",
    "s = set(l)\n",
    "\n",
    "l_max_count = 0\n",
    "l_max_list = []\n",
    "\n",
    "for i in s:\n",
    "    l_c = l.count(i)\n",
    "    if l_max_count < l_c:\n",
    "        l_max_count = l_c\n",
    "        l_max_list.clear()\n",
    "        l_max_list.append(i)\n",
    "    elif l_max_count == l_c:\n",
    "        l_max_list.append(i)\n",
    "\n",
    "l_max_list.sort()\n",
    "print(' '.join(map(str, l_max_list)))"
   ]
  },
  {
   "cell_type": "code",
   "execution_count": null,
   "metadata": {},
   "outputs": [],
   "source": []
  }
 ],
 "metadata": {
  "kernelspec": {
   "display_name": "Python 3",
   "language": "python",
   "name": "python3"
  },
  "language_info": {
   "codemirror_mode": {
    "name": "ipython",
    "version": 3
   },
   "file_extension": ".py",
   "mimetype": "text/x-python",
   "name": "python",
   "nbconvert_exporter": "python",
   "pygments_lexer": "ipython3",
   "version": "3.7.4"
  }
 },
 "nbformat": 4,
 "nbformat_minor": 4
}
