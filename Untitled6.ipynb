{
 "cells": [
  {
   "cell_type": "code",
   "execution_count": 36,
   "metadata": {},
   "outputs": [
    {
     "name": "stdin",
     "output_type": "stream",
     "text": [
      " 2 100 4\n",
      " 2\n"
     ]
    },
    {
     "name": "stdout",
     "output_type": "stream",
     "text": [
      "[0, 1, 99]\n"
     ]
    },
    {
     "name": "stdin",
     "output_type": "stream",
     "text": [
      " 2\n"
     ]
    },
    {
     "name": "stdout",
     "output_type": "stream",
     "text": [
      "[0, 2, 98]\n"
     ]
    },
    {
     "name": "stdin",
     "output_type": "stream",
     "text": [
      " 2\n"
     ]
    },
    {
     "name": "stdout",
     "output_type": "stream",
     "text": [
      "[0, 3, 97]\n"
     ]
    },
    {
     "name": "stdin",
     "output_type": "stream",
     "text": [
      " 1\n"
     ]
    },
    {
     "name": "stdout",
     "output_type": "stream",
     "text": [
      "[2, 2, 96]\n",
      "1\n",
      "2\n"
     ]
    }
   ],
   "source": [
    "rikkoho, yukensha, enzetukaisu = [int(n) for n in input().split(' ')]\n",
    "\n",
    "paiza = [0 for m in range(rikkoho+1)]\n",
    "\n",
    "paiza[-1] = yukensha\n",
    "\n",
    "paiza\n",
    "\n",
    "count = 0\n",
    "for i in range(enzetukaisu):\n",
    "    count = 0\n",
    "    enzetusha = int(input())\n",
    "    for j, k in enumerate(paiza):\n",
    "        if k > 0:\n",
    "            paiza[j] += -1\n",
    "            count += 1\n",
    "    paiza[enzetusha-1] += count\n",
    "    print(paiza)\n",
    "\n",
    "paiza[-1] = 0\n",
    "max_rikkoho = [i for i, v in enumerate(paiza) if v == max(paiza)]\n",
    "for i in max_rikkoho:\n",
    "    print(i+1)"
   ]
  },
  {
   "cell_type": "code",
   "execution_count": null,
   "metadata": {},
   "outputs": [],
   "source": []
  }
 ],
 "metadata": {
  "kernelspec": {
   "display_name": "Python 3",
   "language": "python",
   "name": "python3"
  },
  "language_info": {
   "codemirror_mode": {
    "name": "ipython",
    "version": 3
   },
   "file_extension": ".py",
   "mimetype": "text/x-python",
   "name": "python",
   "nbconvert_exporter": "python",
   "pygments_lexer": "ipython3",
   "version": "3.7.4"
  }
 },
 "nbformat": 4,
 "nbformat_minor": 4
}
