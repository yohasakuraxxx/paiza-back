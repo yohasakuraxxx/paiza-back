{
 "cells": [
  {
   "cell_type": "code",
   "execution_count": 6,
   "metadata": {},
   "outputs": [
    {
     "name": "stdin",
     "output_type": "stream",
     "text": [
      " 100\n",
      " 2\n",
      " 5\n"
     ]
    }
   ],
   "source": [
    "import math\n",
    "\n",
    "genshi = int(input())\n",
    "konyu = int(input())\n",
    "baikyaku = int(input())\n",
    "\n",
    "tani = math.floor(genshi/konyu)\n",
    "rieki_tani = baikyaku - konyu\n",
    "rieki = tani * rieki_tani\n",
    "\n",
    "print(rieki)"
   ]
  },
  {
   "cell_type": "code",
   "execution_count": 7,
   "metadata": {},
   "outputs": [
    {
     "name": "stdout",
     "output_type": "stream",
     "text": [
      "150\n"
     ]
    }
   ],
   "source": [
    "print(rieki)"
   ]
  },
  {
   "cell_type": "code",
   "execution_count": 24,
   "metadata": {},
   "outputs": [
    {
     "name": "stdin",
     "output_type": "stream",
     "text": [
      " 3\n",
      " re\n",
      " fd\n",
      " vc\n"
     ]
    },
    {
     "name": "stdout",
     "output_type": "stream",
     "text": [
      "Hello re,fd,vc.\n"
     ]
    }
   ],
   "source": [
    "N = int(input())\n",
    "mojiretsu = ''\n",
    "\n",
    "for i in range(N):\n",
    "    if i == N-1:\n",
    "        mojiretsu += input()+'.'\n",
    "    else:\n",
    "        mojiretsu += input()+','\n",
    "\n",
    "print('Hello '+mojiretsu)\n",
    "\n"
   ]
  },
  {
   "cell_type": "code",
   "execution_count": 23,
   "metadata": {},
   "outputs": [
    {
     "data": {
      "text/plain": [
       "'ew,fd,vc.'"
      ]
     },
     "execution_count": 23,
     "metadata": {},
     "output_type": "execute_result"
    }
   ],
   "source": [
    "mojiretsu"
   ]
  },
  {
   "cell_type": "code",
   "execution_count": 44,
   "metadata": {},
   "outputs": [
    {
     "name": "stdin",
     "output_type": "stream",
     "text": [
      " 2 9 3 8\n"
     ]
    },
    {
     "name": "stdout",
     "output_type": "stream",
     "text": [
      "[9, 8, 3, 2]\n",
      "a 90 9\n",
      "a 170 8\n",
      "b 173 3\n",
      "b 175 2\n",
      "175\n"
     ]
    }
   ],
   "source": [
    "l = [int(n) for n in input().split(' ')]\n",
    "l.sort(reverse=True)\n",
    "\n",
    "l_sum = 0\n",
    "\n",
    "print(l)\n",
    "\n",
    "for i in range(0,2):\n",
    "    l_sum += l[i]*10\n",
    "    \n",
    "for j in range(2,4):\n",
    "    l_sum += l[j]\n",
    "\n",
    "print(l_sum)"
   ]
  },
  {
   "cell_type": "code",
   "execution_count": 32,
   "metadata": {},
   "outputs": [
    {
     "ename": "IndexError",
     "evalue": "list index out of range",
     "output_type": "error",
     "traceback": [
      "\u001b[0;31m---------------------------------------------------------------------------\u001b[0m",
      "\u001b[0;31mIndexError\u001b[0m                                Traceback (most recent call last)",
      "\u001b[0;32m<ipython-input-32-32713d2680e6>\u001b[0m in \u001b[0;36m<module>\u001b[0;34m\u001b[0m\n\u001b[0;32m----> 1\u001b[0;31m \u001b[0ml\u001b[0m\u001b[0;34m[\u001b[0m\u001b[0;36m4\u001b[0m\u001b[0;34m]\u001b[0m\u001b[0;34m\u001b[0m\u001b[0;34m\u001b[0m\u001b[0m\n\u001b[0m",
      "\u001b[0;31mIndexError\u001b[0m: list index out of range"
     ]
    }
   ],
   "source": [
    "l[4]"
   ]
  },
  {
   "cell_type": "code",
   "execution_count": null,
   "metadata": {},
   "outputs": [],
   "source": []
  }
 ],
 "metadata": {
  "kernelspec": {
   "display_name": "Python 3",
   "language": "python",
   "name": "python3"
  },
  "language_info": {
   "codemirror_mode": {
    "name": "ipython",
    "version": 3
   },
   "file_extension": ".py",
   "mimetype": "text/x-python",
   "name": "python",
   "nbconvert_exporter": "python",
   "pygments_lexer": "ipython3",
   "version": "3.7.4"
  }
 },
 "nbformat": 4,
 "nbformat_minor": 4
}
