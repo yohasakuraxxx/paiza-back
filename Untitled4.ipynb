{
 "cells": [
  {
   "cell_type": "code",
   "execution_count": 24,
   "metadata": {},
   "outputs": [
    {
     "name": "stdin",
     "output_type": "stream",
     "text": [
      " 5 0\n",
      " 80 3\n",
      " 70 4\n",
      " 30 7\n",
      " 60 1\n",
      " 15 7\n"
     ]
    },
    {
     "name": "stdout",
     "output_type": "stream",
     "text": [
      "1\n",
      "2\n",
      "3\n",
      "4\n",
      "5\n"
     ]
    }
   ],
   "source": [
    "N ,M = [int(n) for n in input().split(' ')]\n",
    "\n",
    "gokaku = []\n",
    "\n",
    "for i in range(N):\n",
    "    tensu, kesseki = [int(n) for n in input().split(' ')]\n",
    "    gakuseki = i +1\n",
    "    genten = kesseki * 5\n",
    "    saishu = tensu - genten\n",
    "    if saishu < 0:\n",
    "        saishu = 0\n",
    "    if saishu >= M:\n",
    "        gokaku.append(gakuseki)\n",
    "\n",
    "for j in range(len(gokaku)):\n",
    "    print(gokaku[j])"
   ]
  },
  {
   "cell_type": "code",
   "execution_count": 23,
   "metadata": {},
   "outputs": [
    {
     "data": {
      "text/plain": [
       "[1, 2, 4]"
      ]
     },
     "execution_count": 23,
     "metadata": {},
     "output_type": "execute_result"
    }
   ],
   "source": [
    "gokaku"
   ]
  },
  {
   "cell_type": "code",
   "execution_count": null,
   "metadata": {},
   "outputs": [],
   "source": []
  }
 ],
 "metadata": {
  "kernelspec": {
   "display_name": "Python 3",
   "language": "python",
   "name": "python3"
  },
  "language_info": {
   "codemirror_mode": {
    "name": "ipython",
    "version": 3
   },
   "file_extension": ".py",
   "mimetype": "text/x-python",
   "name": "python",
   "nbconvert_exporter": "python",
   "pygments_lexer": "ipython3",
   "version": "3.7.4"
  }
 },
 "nbformat": 4,
 "nbformat_minor": 4
}
