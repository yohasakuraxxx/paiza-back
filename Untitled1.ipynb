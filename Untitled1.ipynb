{
 "cells": [
  {
   "cell_type": "code",
   "execution_count": 4,
   "metadata": {},
   "outputs": [
    {
     "name": "stdin",
     "output_type": "stream",
     "text": [
      " 3\n",
      " SET 1 -23\n",
      " SUB 77\n",
      " SET 1 0\n"
     ]
    },
    {
     "name": "stdout",
     "output_type": "stream",
     "text": [
      "0 -100\n"
     ]
    }
   ],
   "source": [
    "H1, H2 = 0, 0\n",
    "inp = []\n",
    "\n",
    "ini = int(input())\n",
    "\n",
    "for _ in range(ini):\n",
    "    inp = input()\n",
    "    inp = inp.split(' ')\n",
    "    if inp[0] == 'SET':\n",
    "        if inp[1] == '1':\n",
    "            H1 = int(inp[2])\n",
    "        if inp[1] == '2':\n",
    "            H2 = int(inp[2])\n",
    "    elif inp[0] == 'ADD':\n",
    "        H2 = H1 + int(inp[1])\n",
    "    elif inp[0] == 'SUB':\n",
    "        H2 = H1 - int(inp[1])\n",
    "\n",
    "print(H1, H2)"
   ]
  },
  {
   "cell_type": "code",
   "execution_count": null,
   "metadata": {},
   "outputs": [],
   "source": []
  }
 ],
 "metadata": {
  "kernelspec": {
   "display_name": "Python 3",
   "language": "python",
   "name": "python3"
  },
  "language_info": {
   "codemirror_mode": {
    "name": "ipython",
    "version": 3
   },
   "file_extension": ".py",
   "mimetype": "text/x-python",
   "name": "python",
   "nbconvert_exporter": "python",
   "pygments_lexer": "ipython3",
   "version": "3.7.4"
  }
 },
 "nbformat": 4,
 "nbformat_minor": 4
}
