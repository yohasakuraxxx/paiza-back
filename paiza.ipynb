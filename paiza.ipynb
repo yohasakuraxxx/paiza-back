N ,kyori = [int(n) for n in input().split()]

unchin, plus = 0, 0


def ryokin(kyori, hatsu_kyori, hatsu_unchin, kasan_kyori, kasan_unchin):
    unchin = hatsu_unchin
    plus = hatsu_kyori
   
    if kyori < hatsu_kyori:
        pass
    else:
        while plus <= kyori :
            plus += kasan_kyori
            unchin += kasan_unchin
           
            continue
    return unchin


l = []
for i in range(N):
    hatsu_kyori, hatsu_unchin, kasan_kyori, kasan_unchin = [int(n) for n in input().split()]
    a = ryokin(kyori, hatsu_kyori, hatsu_unchin, kasan_kyori, kasan_unchin)
    l.append(a)

max_ryokin = max(l)
min_ryokin = min(l)
    
print(min_ryokin, max_ryokin,sep=" ")