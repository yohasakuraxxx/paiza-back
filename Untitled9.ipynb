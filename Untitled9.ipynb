{
 "cells": [
  {
   "cell_type": "code",
   "execution_count": 1,
   "metadata": {},
   "outputs": [
    {
     "name": "stdin",
     "output_type": "stream",
     "text": [
      " 5\n",
      " ai\n",
      " pizza\n",
      " paiza\n",
      " aizu\n",
      " ai\n",
      " sai\n"
     ]
    },
    {
     "name": "stdout",
     "output_type": "stream",
     "text": [
      "paiza\n",
      "aizu\n",
      "ai\n",
      "sai\n"
     ]
    }
   ],
   "source": [
    "N = int(input())\n",
    "important_word = input()\n",
    "word_list = []\n",
    "\n",
    "for i in range(N):\n",
    "    word = input()\n",
    "    if important_word in word:\n",
    "        word_list.append(word)\n",
    "        \n",
    "for i in word_list:\n",
    "    print(i)"
   ]
  },
  {
   "cell_type": "code",
   "execution_count": 31,
   "metadata": {},
   "outputs": [],
   "source": [
    "A, B = input().split(' ')\n",
    "A = A.zfill(3)\n",
    "B = B.zfill(3)\n",
    "print(A, B)\n",
    "\n",
    "gokei = ''\n",
    "for i in range(3):\n",
    "    if i == 0 and A[0] == '0' and B[0] == '0':\n",
    "        pass\n",
    "    else:\n",
    "        gokei += str(int(A[i]) +int(B[i]))[-1] \n",
    "        print(gokei)"
   ]
  },
  {
   "cell_type": "code",
   "execution_count": 17,
   "metadata": {},
   "outputs": [
    {
     "data": {
      "text/plain": [
       "'3063'"
      ]
     },
     "execution_count": 17,
     "metadata": {},
     "output_type": "execute_result"
    }
   ],
   "source": [
    "gokei"
   ]
  },
  {
   "cell_type": "code",
   "execution_count": 40,
   "metadata": {},
   "outputs": [
    {
     "name": "stdin",
     "output_type": "stream",
     "text": [
      " 1\n",
      " 23.52.13.5\n"
     ]
    },
    {
     "name": "stdout",
     "output_type": "stream",
     "text": [
      "ok\n",
      "ok\n"
     ]
    }
   ],
   "source": [
    "N = int(input())\n",
    "\n",
    "for i in range(N):\n",
    "    IP = input().split('.', 3)\n",
    "    for j in range(4):\n",
    "        if IP[j] in '0123456789':\n",
    "            print('ok')"
   ]
  },
  {
   "cell_type": "code",
   "execution_count": 34,
   "metadata": {},
   "outputs": [
    {
     "data": {
      "text/plain": [
       "['192', '400', '1', '10.1000...']"
      ]
     },
     "execution_count": 34,
     "metadata": {},
     "output_type": "execute_result"
    }
   ],
   "source": [
    "p = '192.400.1.10.1000...'\n",
    "p.split('.',3)"
   ]
  },
  {
   "cell_type": "code",
   "execution_count": 26,
   "metadata": {},
   "outputs": [
    {
     "name": "stdin",
     "output_type": "stream",
     "text": [
      " 3 44\n",
      " 6\n",
      " 2\n",
      " 3\n"
     ]
    },
    {
     "name": "stdout",
     "output_type": "stream",
     "text": [
      "1\n",
      "0\n",
      "1\n"
     ]
    }
   ],
   "source": [
    "N , ju = input().split(' ')\n",
    "N = int(N)\n",
    "ju = int(ju)\n",
    "\n",
    "ni = list(bin(ju))\n",
    "l = []\n",
    "\n",
    "for i in range(N):\n",
    "    l.append(int(input()))\n",
    "    \n",
    "for i in range(N):\n",
    "    print(int(ni[l[i]*-1]))    "
   ]
  },
  {
   "cell_type": "code",
   "execution_count": 18,
   "metadata": {},
   "outputs": [
    {
     "data": {
      "text/plain": [
       "[4, 3, 4]"
      ]
     },
     "execution_count": 18,
     "metadata": {},
     "output_type": "execute_result"
    }
   ],
   "source": [
    "l"
   ]
  },
  {
   "cell_type": "code",
   "execution_count": 21,
   "metadata": {},
   "outputs": [
    {
     "data": {
      "text/plain": [
       "0"
      ]
     },
     "execution_count": 21,
     "metadata": {},
     "output_type": "execute_result"
    }
   ],
   "source": [
    "int(ni[0])"
   ]
  },
  {
   "cell_type": "code",
   "execution_count": 30,
   "metadata": {},
   "outputs": [
    {
     "name": "stdin",
     "output_type": "stream",
     "text": [
      " 1 + 3 = x\n"
     ]
    }
   ],
   "source": [
    "#1 + 3 = x\n",
    "l = [n for n in input().split(' ')]\n"
   ]
  },
  {
   "cell_type": "code",
   "execution_count": 31,
   "metadata": {},
   "outputs": [
    {
     "data": {
      "text/plain": [
       "['1', '+', '3', '=', 'x']"
      ]
     },
     "execution_count": 31,
     "metadata": {},
     "output_type": "execute_result"
    }
   ],
   "source": [
    "l"
   ]
  },
  {
   "cell_type": "code",
   "execution_count": 35,
   "metadata": {},
   "outputs": [
    {
     "name": "stdout",
     "output_type": "stream",
     "text": [
      "4\n"
     ]
    }
   ],
   "source": [
    "l = [n for n in input().split(' ')]\n",
    "\n",
    "if l[4]=='x':\n",
    "    x = int(l[0]) + int(l[1]+l[2])\n",
    "elif l[0]=='x':\n",
    "    x = int(l[4]) - int(l[1]+l[2])\n",
    "elif l[2]=='x':\n",
    "    if l[1] == '+':\n",
    "        x = int(l[4]) - int(l[0])\n",
    "    else:\n",
    "        x = -(int(l[4]) - int(l[0]))\n",
    "print(x)"
   ]
  },
  {
   "cell_type": "code",
   "execution_count": 34,
   "metadata": {},
   "outputs": [
    {
     "data": {
      "text/plain": [
       "4"
      ]
     },
     "execution_count": 34,
     "metadata": {},
     "output_type": "execute_result"
    }
   ],
   "source": [
    "x"
   ]
  },
  {
   "cell_type": "code",
   "execution_count": 36,
   "metadata": {},
   "outputs": [
    {
     "name": "stdin",
     "output_type": "stream",
     "text": [
      " 120\n"
     ]
    }
   ],
   "source": [
    "n = int(input())"
   ]
  },
  {
   "cell_type": "code",
   "execution_count": 37,
   "metadata": {},
   "outputs": [
    {
     "name": "stdout",
     "output_type": "stream",
     "text": [
      "120\n"
     ]
    }
   ],
   "source": [
    "print(n)"
   ]
  },
  {
   "cell_type": "code",
   "execution_count": 38,
   "metadata": {},
   "outputs": [
    {
     "data": {
      "text/plain": [
       "'\\n8\\n7777\\n2229\\n5566\\n2669\\n1689\\n1333\\n1189\\n3588\\n'"
      ]
     },
     "execution_count": 38,
     "metadata": {},
     "output_type": "execute_result"
    }
   ],
   "source": [
    "\"\"\"\n",
    "8\n",
    "7777\n",
    "2229\n",
    "5566\n",
    "2669\n",
    "1689\n",
    "1333\n",
    "1189\n",
    "3588\n",
    "\"\"\""
   ]
  },
  {
   "cell_type": "code",
   "execution_count": 75,
   "metadata": {},
   "outputs": [
    {
     "name": "stdin",
     "output_type": "stream",
     "text": [
      " 8\n",
      " 7777\n",
      " 2229\n",
      " 5566\n",
      " 2669\n",
      " 1689\n",
      " 1333\n",
      " 1189\n",
      " 3588\n"
     ]
    },
    {
     "name": "stdout",
     "output_type": "stream",
     "text": [
      "Four Card\n",
      "Three Card\n",
      "Two Pair\n",
      "One Pair\n",
      "No Pair\n",
      "Three Card\n",
      "One Pair\n",
      "One Pair\n"
     ]
    }
   ],
   "source": [
    "N = int(input())\n",
    "l = []\n",
    "\n",
    "for i in range(N):\n",
    "    card = list(input())\n",
    "    s = set(card)\n",
    "    if len(s) == 4:\n",
    "        l.append('No Pair')\n",
    "    elif len(s) == 1:\n",
    "        l.append('Four Card')\n",
    "    elif len(s) == 3:\n",
    "        l.append('One Pair')\n",
    "    elif len(s) == 2:\n",
    "        first_num = card[0]\n",
    "        num = 1\n",
    "        for j in range(1,4):\n",
    "            if first_num == card[j]:\n",
    "                num += 1\n",
    "        if num == 2:\n",
    "            l.append('Two Pair')\n",
    "        elif num == 1 or 3:\n",
    "            l.append('Three Card')\n",
    "\n",
    "for k in range(N):\n",
    "    print(l[k])"
   ]
  },
  {
   "cell_type": "code",
   "execution_count": 67,
   "metadata": {},
   "outputs": [
    {
     "data": {
      "text/plain": [
       "['Two Pair']"
      ]
     },
     "execution_count": 67,
     "metadata": {},
     "output_type": "execute_result"
    }
   ],
   "source": [
    "l"
   ]
  },
  {
   "cell_type": "code",
   "execution_count": 55,
   "metadata": {},
   "outputs": [
    {
     "data": {
      "text/plain": [
       "2"
      ]
     },
     "execution_count": 55,
     "metadata": {},
     "output_type": "execute_result"
    }
   ],
   "source": [
    "len(a)"
   ]
  },
  {
   "cell_type": "markdown",
   "metadata": {},
   "source": [
    "6 8 6\n",
    "My#name#\n",
    "is#paiza\n",
    ".#I#like\n",
    "#program\n",
    "ming#ver\n",
    "y#much.#"
   ]
  },
  {
   "cell_type": "code",
   "execution_count": 77,
   "metadata": {},
   "outputs": [],
   "source": [
    "l = [int(n) for n in input().split(\" \")]\n",
    "sep = l[2]\n",
    "sentence = \"\"\n",
    "\n",
    "for i in range(l[0]):\n",
    "    sentence += input()\n",
    "    print(sentence)\n",
    "\n",
    "sentence[0:6]\n",
    "\n",
    "sentence[6:12]\n",
    "\n",
    "sen_len = len(sentence)\n",
    "\n",
    "\n",
    "row_num = int(sen_len/sep)\n",
    "if sen_len%sep != 0:\n",
    "    row_num += 1\n",
    "\n",
    "n, m = 0, 0\n",
    "\n",
    "for _ in range(row_num):\n",
    "    n = m\n",
    "    m += sep\n",
    "    print(sentence[n:m])\n",
    "    \n"
   ]
  },
  {
   "cell_type": "markdown",
   "metadata": {},
   "source": [
    "5 110 120\n",
    "110\n",
    "100\n",
    "120\n",
    "130\n",
    "105"
   ]
  },
  {
   "cell_type": "code",
   "execution_count": 111,
   "metadata": {},
   "outputs": [],
   "source": [
    "day, low, up = [int(n) for n in input().split(' ')]\n",
    "\n",
    "mochikabu = 0\n",
    "rieki = 0\n",
    "\n",
    "for _ in range(day-1):\n",
    "    kabuka = int(input())\n",
    "    if kabuka <= low:\n",
    "        mochikabu += 1\n",
    "        rieki -= kabuka\n",
    "    elif up <= kabuka:\n",
    "        rieki += mochikabu*kabuka\n",
    "        mochikabu = 0\n",
    "\n",
    "\n",
    "kabuka = int(input())\n",
    "rieki += mochikabu*kabuka\n",
    "\n",
    "print(rieki)"
   ]
  },
  {
   "cell_type": "markdown",
   "metadata": {},
   "source": [
    "3\n",
    "3\n",
    "1\n",
    "4"
   ]
  },
  {
   "cell_type": "code",
   "execution_count": 115,
   "metadata": {},
   "outputs": [],
   "source": [
    "N = int(input())\n",
    "\n",
    "kai = 1\n",
    "idou = 0\n",
    "for i in range(N):\n",
    "    jikai = int(input())\n",
    "    idou += abs(kai - jikai)\n",
    "    kai = jikai\n",
    "\n",
    "print(idou)\n",
    "    "
   ]
  },
  {
   "cell_type": "markdown",
   "metadata": {},
   "source": [
    "pa iza\n",
    "83\n"
   ]
  },
  {
   "cell_type": "code",
   "execution_count": 165,
   "metadata": {},
   "outputs": [
    {
     "name": "stdin",
     "output_type": "stream",
     "text": [
      " pa iza\n"
     ]
    },
    {
     "name": "stdout",
     "output_type": "stream",
     "text": [
      "[78] [83]\n",
      "83\n"
     ]
    }
   ],
   "source": [
    "alfabet = [chr(i) for i in range(97, 97+26)]\n",
    "\n",
    "\n",
    "s ,t = [list(n) for n in input().split(\" \")]\n",
    "\n",
    "\n",
    "def merge_name(name1 , name2):\n",
    "    num_name = []\n",
    "    l = name1 + name2\n",
    "    \n",
    "    for i in range(len(l)):\n",
    "        num = alfabet.index(l[i]) + 1\n",
    "        num_name.append(num)\n",
    "    return num_name\n",
    "\n",
    "\n",
    "\n",
    "def num_plus(nm):\n",
    "    new_num = []\n",
    "    for i in range(len(nm) - 1):\n",
    "        \n",
    "    \n",
    "        for j in range(len(nm) - 1):\n",
    "            plus = 0\n",
    "            plus = nm[j] + nm[j + 1]\n",
    "    \n",
    "            if plus <= 100:\n",
    "                new_num.append(plus)\n",
    "                \n",
    "            else:\n",
    "                new_num.append(plus - 101)\n",
    "        \n",
    "        nm = new_num\n",
    "        new_num = []\n",
    "    \n",
    "    return nm\n",
    "\n",
    "name1 = merge_name(s ,t)\n",
    "aisho1 = num_plus(name1)\n",
    "\n",
    "name2 = merge_name(t , s)\n",
    "aisho2 = num_plus(name2)\n",
    "\n",
    "\n",
    "\n",
    "if aisho1 <= aisho2:\n",
    "    print(aisho2[0])\n",
    "else:\n",
    "    print(aisho1[0])"
   ]
  },
  {
   "cell_type": "code",
   "execution_count": 149,
   "metadata": {},
   "outputs": [
    {
     "data": {
      "text/plain": [
       "[16, 1, 9, 26, 1]"
      ]
     },
     "execution_count": 149,
     "metadata": {},
     "output_type": "execute_result"
    }
   ],
   "source": [
    "nm"
   ]
  },
  {
   "cell_type": "markdown",
   "metadata": {},
   "source": [
    "5 6\n",
    "4 3 6 1 3\n",
    "3\n",
    "1 3\n",
    "1 5\n",
    "2 3"
   ]
  },
  {
   "cell_type": "code",
   "execution_count": 216,
   "metadata": {},
   "outputs": [
    {
     "name": "stdin",
     "output_type": "stream",
     "text": [
      " 5 6\n",
      " 4 3 6 1 3\n",
      " 3\n",
      " 1 3\n",
      " 1 5\n",
      " 2 3\n"
     ]
    },
    {
     "ename": "TypeError",
     "evalue": "sequence item 0: expected str instance, int found",
     "output_type": "error",
     "traceback": [
      "\u001b[0;31m---------------------------------------------------------------------------\u001b[0m",
      "\u001b[0;31mTypeError\u001b[0m                                 Traceback (most recent call last)",
      "\u001b[0;32m<ipython-input-216-9554b9715f89>\u001b[0m in \u001b[0;36m<module>\u001b[0;34m\u001b[0m\n\u001b[1;32m     18\u001b[0m             \u001b[0ml\u001b[0m\u001b[0;34m[\u001b[0m\u001b[0mj\u001b[0m\u001b[0;34m]\u001b[0m \u001b[0;34m+=\u001b[0m \u001b[0mplus\u001b[0m\u001b[0;34m\u001b[0m\u001b[0;34m\u001b[0m\u001b[0m\n\u001b[1;32m     19\u001b[0m \u001b[0;34m\u001b[0m\u001b[0m\n\u001b[0;32m---> 20\u001b[0;31m \u001b[0mprint\u001b[0m\u001b[0;34m(\u001b[0m\u001b[0;34m\" \"\u001b[0m\u001b[0;34m.\u001b[0m\u001b[0mjoin\u001b[0m\u001b[0;34m(\u001b[0m\u001b[0ml\u001b[0m\u001b[0;34m)\u001b[0m\u001b[0;34m)\u001b[0m\u001b[0;34m\u001b[0m\u001b[0;34m\u001b[0m\u001b[0m\n\u001b[0m",
      "\u001b[0;31mTypeError\u001b[0m: sequence item 0: expected str instance, int found"
     ]
    }
   ],
   "source": [
    "N , M = [int(n) for n in input().split(\" \")]\n",
    "\n",
    "l = [int(n) for n in input().split(\" \")]\n",
    "\n",
    "l = [4, 3, 6, 1, 3]\n",
    "Q = int(input())\n",
    "anzen = 0\n",
    "\n",
    "for i in range(Q):\n",
    "    s, e =[int(n)-1 for n in input().split(\" \")]\n",
    "    anzen = sum(l[s:e+1]) / (e - s + 1)\n",
    "\n",
    "    \n",
    "    if anzen < 6:\n",
    "        plus = 6 - int(anzen)\n",
    "    \n",
    "        for j in range(s,e+1):\n",
    "            l[j] += plus\n",
    "            \n",
    "print(\" \".join(map(str,)  "
   ]
  },
  {
   "cell_type": "code",
   "execution_count": 213,
   "metadata": {},
   "outputs": [
    {
     "data": {
      "text/plain": [
       "[8, 7, 10, 3, 5]"
      ]
     },
     "execution_count": 213,
     "metadata": {},
     "output_type": "execute_result"
    }
   ],
   "source": [
    "l"
   ]
  },
  {
   "cell_type": "code",
   "execution_count": 204,
   "metadata": {},
   "outputs": [
    {
     "data": {
      "text/plain": [
       "[10, 9, 12, 1, 3]"
      ]
     },
     "execution_count": 204,
     "metadata": {},
     "output_type": "execute_result"
    }
   ],
   "source": [
    "l"
   ]
  },
  {
   "cell_type": "code",
   "execution_count": 205,
   "metadata": {},
   "outputs": [
    {
     "data": {
      "text/plain": [
       "19"
      ]
     },
     "execution_count": 205,
     "metadata": {},
     "output_type": "execute_result"
    }
   ],
   "source": [
    "sum(l[0:2])"
   ]
  },
  {
   "cell_type": "code",
   "execution_count": null,
   "metadata": {},
   "outputs": [],
   "source": [
    "str(l)"
   ]
  },
  {
   "cell_type": "code",
   "execution_count": 215,
   "metadata": {},
   "outputs": [
    {
     "data": {
      "text/plain": [
       "'[8, 7, 10, 3, 5]'"
      ]
     },
     "execution_count": 215,
     "metadata": {},
     "output_type": "execute_result"
    }
   ],
   "source": [
    "str(l)"
   ]
  },
  {
   "cell_type": "code",
   "execution_count": 217,
   "metadata": {},
   "outputs": [
    {
     "name": "stdin",
     "output_type": "stream",
     "text": [
      " 7 10 4\n"
     ]
    }
   ],
   "source": [
    "W ,H ,N = [int(n) for n in input().split()]"
   ]
  },
  {
   "cell_type": "code",
   "execution_count": 228,
   "metadata": {},
   "outputs": [],
   "source": [
    "field = []\n",
    "\n",
    "for i in range(H):\n",
    "    field.append('.' * W)\n",
    "\n"
   ]
  },
  {
   "cell_type": "code",
   "execution_count": 257,
   "metadata": {},
   "outputs": [],
   "source": [
    "l = []\n",
    "field = []\n",
    "field = ['.' * W for i in range(H)]\n",
    "\n",
    "tate = 1\n",
    "yoko = 8\n",
    "haji = 1"
   ]
  },
  {
   "cell_type": "code",
   "execution_count": 258,
   "metadata": {},
   "outputs": [
    {
     "data": {
      "text/plain": [
       "['.......',\n",
       " '.......',\n",
       " '.......',\n",
       " '.......',\n",
       " '.......',\n",
       " '.......',\n",
       " '.......',\n",
       " '.......',\n",
       " '.......',\n",
       " '.......']"
      ]
     },
     "execution_count": 258,
     "metadata": {},
     "output_type": "execute_result"
    }
   ],
   "source": [
    "field"
   ]
  },
  {
   "cell_type": "code",
   "execution_count": 261,
   "metadata": {},
   "outputs": [
    {
     "ename": "TypeError",
     "evalue": "'str' object does not support item assignment",
     "output_type": "error",
     "traceback": [
      "\u001b[0;31m---------------------------------------------------------------------------\u001b[0m",
      "\u001b[0;31mTypeError\u001b[0m                                 Traceback (most recent call last)",
      "\u001b[0;32m<ipython-input-261-8f7e46693bfb>\u001b[0m in \u001b[0;36m<module>\u001b[0;34m\u001b[0m\n\u001b[1;32m      1\u001b[0m \u001b[0;32mfor\u001b[0m \u001b[0mj\u001b[0m \u001b[0;32min\u001b[0m \u001b[0mrange\u001b[0m\u001b[0;34m(\u001b[0m\u001b[0mtate\u001b[0m\u001b[0;34m)\u001b[0m\u001b[0;34m:\u001b[0m\u001b[0;34m\u001b[0m\u001b[0;34m\u001b[0m\u001b[0m\n\u001b[0;32m----> 2\u001b[0;31m     \u001b[0mfield\u001b[0m\u001b[0;34m[\u001b[0m\u001b[0mj\u001b[0m\u001b[0;34m]\u001b[0m\u001b[0;34m[\u001b[0m\u001b[0mhaji\u001b[0m\u001b[0;34m:\u001b[0m\u001b[0mhaji\u001b[0m\u001b[0;34m+\u001b[0m\u001b[0myoko\u001b[0m\u001b[0;34m]\u001b[0m \u001b[0;34m=\u001b[0m \u001b[0;34m[\u001b[0m\u001b[0;34m'#'\u001b[0m\u001b[0;34m*\u001b[0m\u001b[0myoko\u001b[0m \u001b[0;32mfor\u001b[0m \u001b[0mi\u001b[0m \u001b[0;32min\u001b[0m \u001b[0mfield\u001b[0m\u001b[0;34m]\u001b[0m\u001b[0;34m\u001b[0m\u001b[0;34m\u001b[0m\u001b[0m\n\u001b[0m",
      "\u001b[0;31mTypeError\u001b[0m: 'str' object does not support item assignment"
     ]
    }
   ],
   "source": [
    "for j in range(tate):\n",
    "    field[j][haji:haji+yoko] = ['#'*yoko for i in field]"
   ]
  },
  {
   "cell_type": "code",
   "execution_count": 256,
   "metadata": {},
   "outputs": [
    {
     "data": {
      "text/plain": [
       "[['#', '#'],\n",
       " '.......',\n",
       " '.......',\n",
       " '.......',\n",
       " '.......',\n",
       " '.......',\n",
       " '.......',\n",
       " '.......',\n",
       " '.......',\n",
       " '.......']"
      ]
     },
     "execution_count": 256,
     "metadata": {},
     "output_type": "execute_result"
    }
   ],
   "source": [
    "field"
   ]
  },
  {
   "cell_type": "code",
   "execution_count": 252,
   "metadata": {},
   "outputs": [
    {
     "data": {
      "text/plain": [
       "'.......'"
      ]
     },
     "execution_count": 252,
     "metadata": {},
     "output_type": "execute_result"
    }
   ],
   "source": [
    "field[3]"
   ]
  },
  {
   "cell_type": "markdown",
   "metadata": {},
   "source": [
    "2 700\n",
    "600 200 200 400\n",
    "900 800 400 500"
   ]
  },
  {
   "cell_type": "code",
   "execution_count": 265,
   "metadata": {},
   "outputs": [],
   "source": [
    "N ,kyori = [int(n) for n in input().split()]\n",
    "\n",
    "unchin, plus = 0, 0\n",
    "\n",
    "\n",
    "def ryokin(kyori, hatsu_kyori, hatsu_unchin, kasan_kyori, kasan_unchin):\n",
    "    unchin = hatsu_unchin\n",
    "    plus = hatsu_kyori\n",
    "   \n",
    "    if kyori < hatsu_kyori:\n",
    "        pass\n",
    "    else:\n",
    "        while plus < kyori :\n",
    "            plus += kasan_kyori\n",
    "            unchin += kasan_unchin\n",
    "           \n",
    "            continue\n",
    "    return unchin\n",
    "\n",
    "\n",
    "l = []\n",
    "for i in range(N):\n",
    "    hatsu_kyori, hatsu_unchin, kasan_kyori, kasan_unchin = [int(n) for n in input().split()]\n",
    "    a = ryokin(kyori, hatsu_kyori, hatsu_unchin, kasan_kyori, kasan_unchin)\n",
    "    l.append(a)\n",
    "\n",
    "max_ryokin = max(l)\n",
    "min_ryokin = min(l)\n",
    "    \n",
    "print(min_ryokin, max_ryokin,sep=\" \")\n"
   ]
  },
  {
   "cell_type": "code",
   "execution_count": 304,
   "metadata": {},
   "outputs": [
    {
     "data": {
      "text/plain": [
       "101370"
      ]
     },
     "execution_count": 304,
     "metadata": {},
     "output_type": "execute_result"
    }
   ],
   "source": [
    "kyori = 300000\n",
    "ryokin(kyori, 1000, 410, 237, 80)"
   ]
  },
  {
   "cell_type": "markdown",
   "metadata": {},
   "source": [
    "3 25\n",
    "-2 17\n",
    "-7 20\n",
    "2 24"
   ]
  },
  {
   "cell_type": "code",
   "execution_count": 319,
   "metadata": {},
   "outputs": [
    {
     "name": "stdin",
     "output_type": "stream",
     "text": [
      " 1 25\n",
      " -7 20\n"
     ]
    },
    {
     "name": "stdout",
     "output_type": "stream",
     "text": [
      "80.0\n",
      "\n",
      "\n"
     ]
    }
   ],
   "source": [
    "ninzu, mondaisu = [int(n) for n in input().split()]\n",
    "\n",
    "def hyouka(mondaisu, teishutsubi, seitousu):\n",
    "    hyouka = ''\n",
    "    tensu = 0\n",
    "    \n",
    "    tensu = 100/mondaisu * seitousu\n",
    "    if 0 < teishutsubi <= 9:\n",
    "        tensu *= 0.8\n",
    "    elif 9 < teishutsubi:\n",
    "        tensu = 0\n",
    "    \n",
    "    print(tensu)\n",
    "    \n",
    "    if 0 <= tensu < 60:\n",
    "        hyouka = \"D\"\n",
    "    elif 60 <= tensu < 70:\n",
    "        hyouka = \"C\"\n",
    "    elif 70 <= tensu < 80:\n",
    "        hyouka = \"B\"\n",
    "    else:\n",
    "        hyouka = \"A\"\n",
    "    \n",
    "    return hyouka\n",
    "\n",
    "l = []\n",
    "\n",
    "for i in range(ninzu):\n",
    "    teishutsubi, seitousu = [int(n) for n in input().split()]\n",
    "    a = hyouka(mondaisu, teishutsubi, seitousu)\n",
    "    l.append(a)\n",
    "\n",
    "    print(a)\n",
    "    \n",
    "for i in range(ninzu):\n",
    "    print(l[i])"
   ]
  },
  {
   "cell_type": "markdown",
   "metadata": {},
   "source": [
    "5\n",
    "s 70 78 82 57 74\n",
    "l 68 81 81 60 78\n",
    "s 63 76 55 80 75\n",
    "s 90 100 96 10 10\n",
    "l 88 78 81 97 93"
   ]
  },
  {
   "cell_type": "code",
   "execution_count": 329,
   "metadata": {},
   "outputs": [
    {
     "name": "stdin",
     "output_type": "stream",
     "text": [
      " 1\n",
      " s 99 99 99 99 99\n"
     ]
    },
    {
     "name": "stdout",
     "output_type": "stream",
     "text": [
      "1\n"
     ]
    }
   ],
   "source": [
    "N = int(input())\n",
    "\n",
    "def hantei(bunri, eigo, sugaku, rika, kokugo, chireki,):\n",
    "    kei = 0\n",
    "    gokakusha = 0\n",
    "    \n",
    "    if bunri == 's':\n",
    "        kei = sugaku + rika\n",
    "    if bunri == 'l':\n",
    "        kei = kokugo + chireki\n",
    "    \n",
    "    total = eigo + sugaku + rika + kokugo + chireki\n",
    "    \n",
    "    if kei >= 160 and total >= 350:\n",
    "        gouhi = 1\n",
    "    else:\n",
    "        gouhi = 0\n",
    "    \n",
    "    return gouhi\n",
    "\n",
    "\n",
    "gokakusha = 0\n",
    "\n",
    "for i in range(N):\n",
    "    l = []\n",
    "    eigo, sugaku, rika, kokugo, chireki = [i*0 for i in range(5)]\n",
    "    l = [n for n in input().split()]\n",
    "    bunri = l[0]\n",
    "    eigo, sugaku, rika, kokugo, chireki = [int(n) for n in l[1:]]\n",
    "    \n",
    "    gokakusha += hantei(bunri, eigo, sugaku, rika, kokugo, chireki) \n",
    "\n",
    "print(gokakusha)"
   ]
  },
  {
   "cell_type": "code",
   "execution_count": 323,
   "metadata": {},
   "outputs": [
    {
     "data": {
      "text/plain": [
       "1"
      ]
     },
     "execution_count": 323,
     "metadata": {},
     "output_type": "execute_result"
    }
   ],
   "source": [
    "s"
   ]
  },
  {
   "cell_type": "code",
   "execution_count": 324,
   "metadata": {},
   "outputs": [
    {
     "data": {
      "text/plain": [
       "'s'"
      ]
     },
     "execution_count": 324,
     "metadata": {},
     "output_type": "execute_result"
    }
   ],
   "source": [
    "bunri"
   ]
  },
  {
   "cell_type": "markdown",
   "metadata": {},
   "source": [
    "3 3\n",
    "250\n",
    "500\n",
    "1000\n",
    "100 200 300\n",
    "30 250 0\n",
    "1 1 1000\n",
    "\n",
    "5 1\n",
    "123\n",
    "456\n",
    "789\n",
    "111\n",
    "220\n",
    "10 10 10 10 10"
   ]
  },
  {
   "cell_type": "code",
   "execution_count": 16,
   "metadata": {},
   "outputs": [
    {
     "name": "stdin",
     "output_type": "stream",
     "text": [
      " 5 1\n",
      " 123\n",
      " 456\n",
      " 789\n",
      " 111\n",
      " 220\n",
      " 10 10 10 10 10\n"
     ]
    },
    {
     "name": "stdout",
     "output_type": "stream",
     "text": [
      "169\n"
     ]
    }
   ],
   "source": [
    "M ,N = [int(n) for n in input().split()]\n",
    "\n",
    "ryori = []\n",
    "for i in range(M):\n",
    "    ryori.append(int(input())/100)\n",
    "\n",
    "cal = []\n",
    "total_cal = 0\n",
    "kekka = []\n",
    "\n",
    "for i in range(N):\n",
    "    l = []\n",
    "    total_cal = 0\n",
    "    \n",
    "    l = [int(n) for n in input().split()]\n",
    "    for j in range(M):\n",
    "        total_cal +=  int(ryori[j]*l[j])\n",
    "    kekka.append(total_cal)\n",
    "\n",
    "for i in range(N):\n",
    "    print(int(kekka[i]))"
   ]
  },
  {
   "cell_type": "code",
   "execution_count": 17,
   "metadata": {},
   "outputs": [
    {
     "data": {
      "text/plain": [
       "[169.89999999999998]"
      ]
     },
     "execution_count": 17,
     "metadata": {},
     "output_type": "execute_result"
    }
   ],
   "source": [
    "kekka"
   ]
  },
  {
   "cell_type": "code",
   "execution_count": 18,
   "metadata": {},
   "outputs": [
    {
     "data": {
      "text/plain": [
       "[1.23, 4.56, 7.89, 1.11, 2.2]"
      ]
     },
     "execution_count": 18,
     "metadata": {},
     "output_type": "execute_result"
    }
   ],
   "source": [
    "ryori"
   ]
  },
  {
   "cell_type": "code",
   "execution_count": 19,
   "metadata": {},
   "outputs": [
    {
     "data": {
      "text/plain": [
       "169.89999999999998"
      ]
     },
     "execution_count": 19,
     "metadata": {},
     "output_type": "execute_result"
    }
   ],
   "source": [
    "total_cal"
   ]
  },
  {
   "cell_type": "code",
   "execution_count": 20,
   "metadata": {},
   "outputs": [
    {
     "data": {
      "text/plain": [
       "16.99"
      ]
     },
     "execution_count": 20,
     "metadata": {},
     "output_type": "execute_result"
    }
   ],
   "source": [
    "1.23+4.56+7.89+1.11+2.2"
   ]
  },
  {
   "cell_type": "code",
   "execution_count": 21,
   "metadata": {},
   "outputs": [
    {
     "data": {
      "text/plain": [
       "169.9"
      ]
     },
     "execution_count": 21,
     "metadata": {},
     "output_type": "execute_result"
    }
   ],
   "source": [
    "12.3+45.6+78.9+11.1+22"
   ]
  },
  {
   "cell_type": "markdown",
   "metadata": {},
   "source": [
    "5\n",
    "11 14 16 10\n",
    "12 15 17 10\n",
    "13 11 14 11\n",
    "12 10 13 8\n",
    "11 13 14 10"
   ]
  },
  {
   "cell_type": "code",
   "execution_count": 22,
   "metadata": {},
   "outputs": [],
   "source": [
    "N = int(input())\n",
    "\n",
    "hajimene = 0\n",
    "owarine = 0\n",
    "takane = []\n",
    "yasune = []\n",
    "\n",
    "l = []\n",
    "for i in range(N):\n",
    "    a = [int(n) for n in input().split()]\n",
    "    l.append(a)\n",
    "\n",
    "hajimene = l[0][0]\n",
    "owarine = l[N-1][1]\n",
    "\n",
    "for i in range(N):\n",
    "    takane.append(l[i][2])\n",
    "    yasune.append(l[i][3])\n",
    "\n",
    "max_takane = max(takane)\n",
    "min_yasune = min(yasune)\n",
    "\n",
    "print(hajimene, owarine, max_takane, min_yasune)"
   ]
  },
  {
   "cell_type": "code",
   "execution_count": 35,
   "metadata": {},
   "outputs": [
    {
     "data": {
      "text/plain": [
       "[13, 11, 13, 11, 14, 11, 16, 17, 14, 13, 14]"
      ]
     },
     "execution_count": 35,
     "metadata": {},
     "output_type": "execute_result"
    }
   ],
   "source": [
    "takane"
   ]
  },
  {
   "cell_type": "code",
   "execution_count": 1,
   "metadata": {},
   "outputs": [],
   "source": [
    "a = 1 "
   ]
  },
  {
   "cell_type": "code",
   "execution_count": 2,
   "metadata": {},
   "outputs": [
    {
     "data": {
      "text/plain": [
       "1"
      ]
     },
     "execution_count": 2,
     "metadata": {},
     "output_type": "execute_result"
    }
   ],
   "source": [
    "a "
   ]
  },
  {
   "cell_type": "code",
   "execution_count": 20,
   "metadata": {},
   "outputs": [
    {
     "name": "stdin",
     "output_type": "stream",
     "text": [
      " 4 abab baba\n"
     ]
    },
    {
     "ename": "IndexError",
     "evalue": "list assignment index out of range",
     "output_type": "error",
     "traceback": [
      "\u001b[0;31m---------------------------------------------------------------------------\u001b[0m",
      "\u001b[0;31mIndexError\u001b[0m                                Traceback (most recent call last)",
      "\u001b[0;32m<ipython-input-20-ee27f81a5db9>\u001b[0m in \u001b[0;36m<module>\u001b[0;34m\u001b[0m\n\u001b[1;32m     10\u001b[0m     \u001b[0;32mfor\u001b[0m \u001b[0mi\u001b[0m \u001b[0;32min\u001b[0m \u001b[0mrange\u001b[0m\u001b[0;34m(\u001b[0m\u001b[0mN\u001b[0m\u001b[0;34m-\u001b[0m\u001b[0;36m1\u001b[0m\u001b[0;34m)\u001b[0m\u001b[0;34m:\u001b[0m\u001b[0;34m\u001b[0m\u001b[0;34m\u001b[0m\u001b[0m\n\u001b[1;32m     11\u001b[0m         \u001b[0ms\u001b[0m\u001b[0;34m[\u001b[0m\u001b[0mi\u001b[0m\u001b[0;34m]\u001b[0m \u001b[0;34m=\u001b[0m \u001b[0ms\u001b[0m\u001b[0;34m[\u001b[0m\u001b[0mi\u001b[0m\u001b[0;34m+\u001b[0m\u001b[0;36m1\u001b[0m\u001b[0;34m]\u001b[0m\u001b[0;34m\u001b[0m\u001b[0;34m\u001b[0m\u001b[0m\n\u001b[0;32m---> 12\u001b[0;31m     \u001b[0ms\u001b[0m\u001b[0;34m[\u001b[0m\u001b[0;36m4\u001b[0m\u001b[0;34m]\u001b[0m \u001b[0;34m=\u001b[0m \u001b[0mtemp\u001b[0m\u001b[0;34m\u001b[0m\u001b[0;34m\u001b[0m\u001b[0m\n\u001b[0m\u001b[1;32m     13\u001b[0m     \u001b[0mcount\u001b[0m \u001b[0;34m+=\u001b[0m \u001b[0;36m1\u001b[0m\u001b[0;34m\u001b[0m\u001b[0;34m\u001b[0m\u001b[0m\n\u001b[1;32m     14\u001b[0m \u001b[0;34m\u001b[0m\u001b[0m\n",
      "\u001b[0;31mIndexError\u001b[0m: list assignment index out of range"
     ]
    }
   ],
   "source": [
    "l = input().split()\n",
    "\n",
    "N = int(l[0])\n",
    "t = list(l[1])\n",
    "s = list(l[2])\n",
    "\n",
    "count = 0\n",
    "while t != s:\n",
    "    temp = s[0]\n",
    "    for i in range(N-1):\n",
    "        s[i] = s[i+1]\n",
    "    s[N-1] = temp\n",
    "    count += 1\n",
    "\n",
    "print(count)"
   ]
  },
  {
   "cell_type": "code",
   "execution_count": 19,
   "metadata": {},
   "outputs": [
    {
     "data": {
      "text/plain": [
       "2"
      ]
     },
     "execution_count": 19,
     "metadata": {},
     "output_type": "execute_result"
    }
   ],
   "source": [
    "count"
   ]
  },
  {
   "cell_type": "code",
   "execution_count": 10,
   "metadata": {},
   "outputs": [
    {
     "data": {
      "text/plain": [
       "False"
      ]
     },
     "execution_count": 10,
     "metadata": {},
     "output_type": "execute_result"
    }
   ],
   "source": [
    "t == s"
   ]
  },
  {
   "cell_type": "code",
   "execution_count": 21,
   "metadata": {},
   "outputs": [],
   "source": [
    "a = 1"
   ]
  },
  {
   "cell_type": "code",
   "execution_count": 22,
   "metadata": {},
   "outputs": [
    {
     "data": {
      "text/plain": [
       "1"
      ]
     },
     "execution_count": 22,
     "metadata": {},
     "output_type": "execute_result"
    }
   ],
   "source": [
    "a"
   ]
  },
  {
   "cell_type": "code",
   "execution_count": 26,
   "metadata": {},
   "outputs": [],
   "source": [
    "A, B = [int(n) for n in input().split()]\n",
    "\n",
    "N = int(input())\n",
    "\n",
    "def shobu(A, B, a, b):\n",
    "    shohai = ''\n",
    "    if A > a:\n",
    "        shohai = 'High'\n",
    "    elif A < a:\n",
    "        shohai = 'Low'\n",
    "    else:\n",
    "        if B < b:\n",
    "            shohai = 'High'\n",
    "        else:\n",
    "            shohai = 'Low'\n",
    "    return shohai    \n",
    "\n",
    "l = []\n",
    "for i in range(N):\n",
    "    a, b = 0, 0\n",
    "    a, b = [int(n) for n in input().split()]\n",
    "    l.append(shobu(A, B, a, b))\n",
    "\n",
    "    \n",
    "for i in range(N):\n",
    "    print(l[i])"
   ]
  },
  {
   "cell_type": "code",
   "execution_count": 59,
   "metadata": {},
   "outputs": [
    {
     "name": "stdin",
     "output_type": "stream",
     "text": [
      " 1000 99\n"
     ]
    },
    {
     "name": "stdout",
     "output_type": "stream",
     "text": [
      "10 1010\n",
      "0 1010\n",
      "1010\n"
     ]
    }
   ],
   "source": [
    "yen, P = [int(n) for n in input().split()]\n",
    "\n",
    "pay_sum = yen\n",
    "\n",
    "while 0 < yen:\n",
    "    yen = yen * (100-P) * 0.01\n",
    "    yen = int(yen)\n",
    "    pay_sum += yen\n",
    "    print(yen, pay_sum)\n",
    "\n",
    "print(pay_sum)"
   ]
  },
  {
   "cell_type": "code",
   "execution_count": null,
   "metadata": {},
   "outputs": [
    {
     "name": "stdin",
     "output_type": "stream",
     "text": [
      " 12\n",
      " january januarry\n"
     ]
    },
    {
     "name": "stdout",
     "output_type": "stream",
     "text": [
      "0\n"
     ]
    },
    {
     "name": "stdin",
     "output_type": "stream",
     "text": [
      " february febrary\n"
     ]
    },
    {
     "name": "stdout",
     "output_type": "stream",
     "text": [
      "0\n"
     ]
    },
    {
     "name": "stdin",
     "output_type": "stream",
     "text": [
      " march march\n"
     ]
    },
    {
     "name": "stdout",
     "output_type": "stream",
     "text": [
      "3\n"
     ]
    }
   ],
   "source": [
    "N = int(input())\n",
    "\n",
    "tokuten = 0\n",
    "\n",
    "for i in range(N):\n",
    "    l = []\n",
    "    l = input().split()\n",
    "    if l[0] == l[1]:\n",
    "        tokuten += 2\n",
    "    elif len(l[0]) != len(l[1]):\n",
    "        tokuten += 0\n",
    "    else:\n",
    "        a = list(l[0])\n",
    "        b = list(l[1])\n",
    "        fuicchi = 0\n",
    "        for j in range(len(l[0])):\n",
    "            if a[j] != b[j]:\n",
    "                fuicchi +=1\n",
    "        if fuicchi == 1:\n",
    "            tokuten += 1\n",
    "    print(tokuten)\n",
    "                    \n",
    "            "
   ]
  },
  {
   "cell_type": "code",
   "execution_count": 86,
   "metadata": {},
   "outputs": [
    {
     "data": {
      "text/plain": [
       "['a', 'p', 'l']"
      ]
     },
     "execution_count": 86,
     "metadata": {},
     "output_type": "execute_result"
    }
   ],
   "source": [
    "b"
   ]
  },
  {
   "cell_type": "code",
   "execution_count": 79,
   "metadata": {},
   "outputs": [
    {
     "data": {
      "text/plain": [
       "5"
      ]
     },
     "execution_count": 79,
     "metadata": {},
     "output_type": "execute_result"
    }
   ],
   "source": [
    "len(l[0])"
   ]
  },
  {
   "cell_type": "code",
   "execution_count": null,
   "metadata": {},
   "outputs": [],
   "source": []
  }
 ],
 "metadata": {
  "kernelspec": {
   "display_name": "Python 3",
   "language": "python",
   "name": "python3"
  },
  "language_info": {
   "codemirror_mode": {
    "name": "ipython",
    "version": 3
   },
   "file_extension": ".py",
   "mimetype": "text/x-python",
   "name": "python",
   "nbconvert_exporter": "python",
   "pygments_lexer": "ipython3",
   "version": "3.7.4"
  }
 },
 "nbformat": 4,
 "nbformat_minor": 4
}
