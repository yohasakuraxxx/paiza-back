{
 "cells": [
  {
   "cell_type": "markdown",
   "metadata": {},
   "source": [
    "- 入力例1\n",
    "- 1 4 1 20\n",
    "- 3\n",
    "- 130 1 0 0 0\n",
    "- 150 0 2 0 0\n",
    "- 100 1 0 0 0\n",
    "- \n",
    "- 出力例1\n",
    "- 0 3 1 2\n",
    "- 0 0 0 5\n",
    "- impossible\n",
    "- \n",
    "- 入力例2\n",
    "- 5 7 8 9\n",
    "- 4\n",
    "- 110 0 2 0 0\n",
    "- 120 1 0 0 0\n",
    "- 130 1 0 0 0\n",
    "- 180 0 2 0 2\n",
    "- \n",
    "- 出力例2\n",
    "- 0 0 1 4\n",
    "- 0 3 1 3\n",
    "- 0 3 1 2\n",
    "- impossible"
   ]
  },
  {
   "cell_type": "code",
   "execution_count": 104,
   "metadata": {},
   "outputs": [
    {
     "name": "stdin",
     "output_type": "stream",
     "text": [
      " 1 4 1 20\n"
     ]
    }
   ],
   "source": [
    "zandaka = [int(n) for n in input().split(' ')]"
   ]
  },
  {
   "cell_type": "code",
   "execution_count": 105,
   "metadata": {},
   "outputs": [
    {
     "name": "stdin",
     "output_type": "stream",
     "text": [
      " 3\n"
     ]
    }
   ],
   "source": [
    "N = int(input())"
   ]
  },
  {
   "cell_type": "code",
   "execution_count": null,
   "metadata": {},
   "outputs": [
    {
     "name": "stdin",
     "output_type": "stream",
     "text": [
      " 130 1 0 0 0\n"
     ]
    },
    {
     "name": "stdout",
     "output_type": "stream",
     "text": [
      "0 3 1 2\n"
     ]
    },
    {
     "name": "stdin",
     "output_type": "stream",
     "text": [
      " 150 0 2 0 0\n"
     ]
    },
    {
     "name": "stdout",
     "output_type": "stream",
     "text": [
      "0 0 1 0\n"
     ]
    }
   ],
   "source": [
    "for _ in range(N):\n",
    "    inp = [int(n) for n in input().split(' ')]\n",
    "    kingaku = inp[0]\n",
    "    tonyu = inp[1:5]\n",
    "    nyukin = tonyu[0]*500 + tonyu[1]*100 + tonyu[2]*50 +tonyu[3]*10\n",
    "    otsuri = nyukin - kingaku\n",
    "    otsuri_str = str(otsuri).zfill(4)\n",
    "    \n",
    "    otsuri_kozeni = [0, 0, 0, 0]\n",
    "    otsuri_kozeni[-3] = int(otsuri_str[-3])\n",
    "    if int(otsuri_str[-2]) >= 5:\n",
    "        otsuri_kozeni[-2] = 1\n",
    "        otsuri_kozeni[-1] = int(otsuri_str[-2])-5\n",
    "    else:\n",
    "        otsuri_kozeni[-1] = int(otsuri_str[1])\n",
    "\n",
    "    for i in range(4):\n",
    "        if zandaka[i] > otsuri_kozeni[i]:\n",
    "            zandaka[i] = zandaka[i] - otsuri_kozeni[i]\n",
    "        elif zandaka[i] < otsuri[i] :\n",
    "            \n",
    "    print(' '.join(map(str,otsuri_kozeni)))\n",
    "    print(zandaka)"
   ]
  },
  {
   "cell_type": "code",
   "execution_count": 100,
   "metadata": {},
   "outputs": [
    {
     "name": "stdout",
     "output_type": "stream",
     "text": [
      "[0, 2, 0, 0]\n",
      "200\n",
      "50\n",
      "[1, -7, -1, 16]\n",
      "50\n",
      "[0, 5, 0]\n"
     ]
    }
   ],
   "source": [
    "print(tonyu,nyukin,otsuri,zandaka,otsuri_str,otsuri_kozeni,sep='\\n')"
   ]
  },
  {
   "cell_type": "code",
   "execution_count": 97,
   "metadata": {},
   "outputs": [
    {
     "data": {
      "text/plain": [
       "[1, -7, -1, 16]"
      ]
     },
     "execution_count": 97,
     "metadata": {},
     "output_type": "execute_result"
    }
   ],
   "source": [
    "zandaka"
   ]
  },
  {
   "cell_type": "code",
   "execution_count": 98,
   "metadata": {},
   "outputs": [
    {
     "data": {
      "text/plain": [
       "[0, 5, 0]"
      ]
     },
     "execution_count": 98,
     "metadata": {},
     "output_type": "execute_result"
    }
   ],
   "source": [
    "otsuri_kozeni"
   ]
  },
  {
   "cell_type": "code",
   "execution_count": 78,
   "metadata": {},
   "outputs": [
    {
     "data": {
      "text/plain": [
       "370"
      ]
     },
     "execution_count": 78,
     "metadata": {},
     "output_type": "execute_result"
    }
   ],
   "source": [
    "otsuri"
   ]
  },
  {
   "cell_type": "code",
   "execution_count": 79,
   "metadata": {},
   "outputs": [
    {
     "data": {
      "text/plain": [
       "[1, 4, 1, 20]"
      ]
     },
     "execution_count": 79,
     "metadata": {},
     "output_type": "execute_result"
    }
   ],
   "source": [
    "zandaka"
   ]
  },
  {
   "cell_type": "code",
   "execution_count": 80,
   "metadata": {},
   "outputs": [
    {
     "data": {
      "text/plain": [
       "[0, 3, 1, 2, 3, 1, 2]"
      ]
     },
     "execution_count": 80,
     "metadata": {},
     "output_type": "execute_result"
    }
   ],
   "source": [
    "kozeni"
   ]
  },
  {
   "cell_type": "code",
   "execution_count": 51,
   "metadata": {},
   "outputs": [],
   "source": [
    "a = 370"
   ]
  },
  {
   "cell_type": "code",
   "execution_count": 52,
   "metadata": {},
   "outputs": [],
   "source": [
    "#a = 500*0 + 100*3 +  50*1 + 10*2"
   ]
  },
  {
   "cell_type": "code",
   "execution_count": 55,
   "metadata": {},
   "outputs": [
    {
     "data": {
      "text/plain": [
       "'370'"
      ]
     },
     "execution_count": 55,
     "metadata": {},
     "output_type": "execute_result"
    }
   ],
   "source": [
    "a_str=str(a)\n",
    "a_str"
   ]
  },
  {
   "cell_type": "code",
   "execution_count": 70,
   "metadata": {},
   "outputs": [],
   "source": [
    "kozeni =[0]"
   ]
  },
  {
   "cell_type": "code",
   "execution_count": 71,
   "metadata": {},
   "outputs": [],
   "source": [
    "kozeni.append(int(a_str[0]))\n",
    "if int(a_str[1]) >= 5:\n",
    "    kozeni.append(1)\n",
    "    kozeni.append(int(a_str[1])-5)\n",
    "else:\n",
    "    kozeni.append()\n"
   ]
  },
  {
   "cell_type": "code",
   "execution_count": 72,
   "metadata": {},
   "outputs": [
    {
     "data": {
      "text/plain": [
       "[0, 3, 1, 2]"
      ]
     },
     "execution_count": 72,
     "metadata": {},
     "output_type": "execute_result"
    }
   ],
   "source": [
    "kozeni"
   ]
  },
  {
   "cell_type": "code",
   "execution_count": 73,
   "metadata": {},
   "outputs": [
    {
     "data": {
      "text/plain": [
       "[1, 4, 1, 20]"
      ]
     },
     "execution_count": 73,
     "metadata": {},
     "output_type": "execute_result"
    }
   ],
   "source": [
    "zandaka"
   ]
  },
  {
   "cell_type": "code",
   "execution_count": null,
   "metadata": {},
   "outputs": [],
   "source": []
  }
 ],
 "metadata": {
  "kernelspec": {
   "display_name": "Python 3",
   "language": "python",
   "name": "python3"
  },
  "language_info": {
   "codemirror_mode": {
    "name": "ipython",
    "version": 3
   },
   "file_extension": ".py",
   "mimetype": "text/x-python",
   "name": "python",
   "nbconvert_exporter": "python",
   "pygments_lexer": "ipython3",
   "version": "3.7.4"
  }
 },
 "nbformat": 4,
 "nbformat_minor": 4
}
